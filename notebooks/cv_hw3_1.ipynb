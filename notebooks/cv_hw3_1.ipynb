{
  "nbformat": 4,
  "nbformat_minor": 0,
  "metadata": {
    "colab": {
      "name": "cv_hw3_1.ipynb",
      "provenance": [],
      "authorship_tag": "ABX9TyMmXMHAfsTaNPsgiigmOVKd",
      "include_colab_link": true
    },
    "kernelspec": {
      "name": "python3",
      "display_name": "Python 3"
    }
  },
  "cells": [
    {
      "cell_type": "markdown",
      "metadata": {
        "id": "view-in-github",
        "colab_type": "text"
      },
      "source": [
        "<a href=\"https://colab.research.google.com/github/PtrShi/cvr_course/blob/main/notebooks/cv_hw3_1.ipynb\" target=\"_parent\"><img src=\"https://colab.research.google.com/assets/colab-badge.svg\" alt=\"Open In Colab\"/></a>"
      ]
    },
    {
      "cell_type": "markdown",
      "metadata": {
        "id": "eWY2tLec1EZh"
      },
      "source": [
        "4) [3 балла] Доп. задача 1: Примените написанный Вами код к видео https://drive.google.com/file/d/1AQhg2lL5FL4edlOcxY2SHOOZ-v9TgHBD/view?usp=sharing. Загрузите видео на свой гугл диск, а затем дополните имеющийся код монтированием диска и чтением в цикле кадров видео, приведёнными в конце семинара"
      ]
    },
    {
      "cell_type": "code",
      "metadata": {
        "id": "nXSnAAge0ay0",
        "colab": {
          "base_uri": "https://localhost:8080/"
        },
        "outputId": "168cb82d-c26b-4fbe-ec21-521c3587fa2a"
      },
      "source": [
        "!git clone https://github.com/PtrShi/cvr_course.git\n",
        "# очищенный код из cv_hw3.ipynb"
      ],
      "execution_count": 1,
      "outputs": [
        {
          "output_type": "stream",
          "text": [
            "Cloning into 'cvr_course'...\n",
            "remote: Enumerating objects: 98, done.\u001b[K\n",
            "remote: Counting objects: 100% (98/98), done.\u001b[K\n",
            "remote: Compressing objects: 100% (98/98), done.\u001b[K\n",
            "remote: Total 265 (delta 64), reused 0 (delta 0), pack-reused 167\u001b[K\n",
            "Receiving objects: 100% (265/265), 49.45 MiB | 13.54 MiB/s, done.\n",
            "Resolving deltas: 100% (100/100), done.\n"
          ],
          "name": "stdout"
        }
      ]
    },
    {
      "cell_type": "code",
      "metadata": {
        "id": "rvigT81v1YTO"
      },
      "source": [
        "import numpy as np\n",
        "import cv2\n",
        "import time\n",
        "import os\n",
        "import math\n",
        "import sys\n",
        "from matplotlib import pyplot as plt\n",
        "from google.colab.patches import cv2_imshow\n",
        "from IPython.display import clear_output"
      ],
      "execution_count": 2,
      "outputs": []
    },
    {
      "cell_type": "code",
      "metadata": {
        "id": "eWP2xlQc-xuD"
      },
      "source": [
        "def order_points(pts):\n",
        "    center_X, center_Y = np.mean(pts[:,0]) , np.mean(pts[:,1])\n",
        "    center = (center_X, center_Y)\n",
        "    shifted = pts - center\n",
        "    theta = np.arctan2 (shifted[:, 1], shifted[:, 0])\n",
        "    ind = np.argsort(theta)\n",
        "    ordered = np.array (pts[ind], dtype = 'float32')\n",
        "\n",
        "    if len (ordered) != 4\n",
        "      return ((0,0), (150,0), (150,150), (0,150), (75,75)\n",
        "    (tl, tr, br, bl) = ordered\n",
        "\n",
        "    widthA = np.sqrt(((br[0] - bl[0]) ** 2) + ((br[1] - bl[1]) ** 2))\n",
        "    widthB = np.sqrt(((tr[0] - tl[0]) ** 2) + ((tr[1] - tl[1]) ** 2))\n",
        "    x = int (max(widthA, widthB))\n",
        "\n",
        "    heightA = np.sqrt(((tr[0] - br[0]) ** 2) + ((tr[1] - br[1]) ** 2))\n",
        "    heightB = np.sqrt(((tl[0] - bl[0]) ** 2) + ((tl[1] - bl[1]) ** 2))\n",
        "    y = int (max(heightA, heightB))\n",
        "   \n",
        "    return ordered, (x, y)"
      ],
      "execution_count": 3,
      "outputs": []
    },
    {
      "cell_type": "code",
      "metadata": {
        "id": "Bn2x2NzB1cJl"
      },
      "source": [
        "def get_arrow_direction (img_orig):\n",
        "  img_bw = cv2.cvtColor (img_orig, cv2.COLOR_BGR2GRAY)\n",
        "  low_th  = (210) #, 200, 200)\n",
        "  high_th = (255) #, 255, 255)\n",
        "  mask = cv2.inRange (img_bw, low_th, high_th)\n",
        "\n",
        "  contours, _ = cv2.findContours (mask, cv2.RETR_EXTERNAL, cv2.CHAIN_APPROX_SIMPLE)\n",
        "  j = 1 \n",
        "  ind_largest_cont = 0 \n",
        "  while j < len (contours):\n",
        "    if len (contours [j]) > len (contours [ind_largest_cont]):\n",
        "      ind_largest_cont = j\n",
        "    j = j + 1\n",
        "  cnt = contours [ind_largest_cont]\n",
        "  cnt_hull = cv2.convexHull (cnt)\n",
        "  epsilon = 0.05 * cv2.arcLength (cnt_hull, True)\n",
        "  vertices = cv2.approxPolyDP (cnt_hull, epsilon, True)\n",
        "\n",
        "  vertices_norm = vertices [:,0,:]\n",
        "  rect, unwarped_size = order_points (vertices_norm)\n",
        "\n",
        "  dst = np.array([[0, 0], [unwarped_size[0], 0], [unwarped_size[0], unwarped_size[1]], [0, unwarped_size[1]]], dtype=\"float32\")\n",
        "  mx = cv2.getPerspectiveTransform (rect, dst) \n",
        "  mask_unwarped = cv2.warpPerspective (mask, mx, unwarped_size)\n",
        "\n",
        "  crop_x, crop_y = 7, 7\n",
        "  mask_unwarped_cropped = mask_unwarped [crop_y:-crop_y, crop_x:-crop_x]\n",
        "  white = np.full ((mask_unwarped_cropped.shape [0], mask_unwarped_cropped.shape [1]), 255)\n",
        "  mask_unwarped_cropped = white - mask_unwarped_cropped\n",
        "  mask_unwarped_cropped = cv2.inRange (mask_unwarped_cropped, 1, 255)\n",
        "\n",
        "  contours_unwarped, _ = cv2.findContours (mask_unwarped_cropped, cv2.RETR_EXTERNAL, cv2.CHAIN_APPROX_SIMPLE)\n",
        "\n",
        "  j = 1 \n",
        "  ind_largest_cont = 0 \n",
        "  # I'm not so good with python magic\n",
        "  while j < len (contours_unwarped):\n",
        "    if len (contours_unwarped [j]) > len (contours_unwarped [ind_largest_cont]):\n",
        "      ind_largest_cont = j\n",
        "    j = j + 1\n",
        "\n",
        "  cnt_arrow = contours_unwarped [ind_largest_cont]\n",
        "\n",
        "  box_x, box_y, box_w, box_h = cv2.boundingRect (cnt_arrow)\n",
        "  cx = int (box_x + box_w / 2)\n",
        "  cy = int (box_y + box_h / 2)\n",
        "\n",
        "  weight_tl = np.count_nonzero (mask_unwarped_cropped [box_y:cy, box_x:cx])\n",
        "  weight_tr = np.count_nonzero (mask_unwarped_cropped [box_y:cy, cx:cx + int (box_w/2)])\n",
        "  weight_br = np.count_nonzero (mask_unwarped_cropped [cy: cy + int (box_h/2), cx:cx + int (box_w/2)])\n",
        "  weight_bl = np.count_nonzero (mask_unwarped_cropped [cy: cy + int (box_h/2), box_x:cx])\n",
        "  weights = np.array ((weight_tl, weight_tr, weight_bl, weight_br), dtype = 'int')\n",
        "  first, second = np.argsort (-weights) [:2]\n",
        "  summa = first + second\n",
        "  if summa == 1:\n",
        "    direction = 'up'\n",
        "  else:\n",
        "    if summa == 4:\n",
        "      direction = 'right'\n",
        "    else:\n",
        "      if summa == 5:\n",
        "        direction = 'down'\n",
        "      else:\n",
        "        if summa == 2:\n",
        "          direction = 'left'\n",
        "        else:\n",
        "          direction = 'unknown'\n",
        "  return direction\n"
      ],
      "execution_count": 4,
      "outputs": []
    },
    {
      "cell_type": "code",
      "metadata": {
        "colab": {
          "base_uri": "https://localhost:8080/",
          "height": 370
        },
        "id": "49yCXp9cCh0H",
        "outputId": "05a887f0-d5db-471c-ec0d-ae74aee44806"
      },
      "source": [
        "file = 'cvr_course/data/imgs/3.mov'\n",
        "vid = cv2.VideoCapture (file)\n",
        "while(vid.isOpened()): \n",
        "      \n",
        "  ret, frame = vid.read() \n",
        "  if ret == True: \n",
        "    direction = get_arrow_direction (frame)\n",
        "    plt.text (50, 50, direction, fontsize=20)\n",
        "    plt.imshow (frame)  \n",
        "    plt.axis ('off')\n",
        "    plt.show ()    \n",
        "    clear_output (wait = True)    \n",
        "  else:  \n",
        "    break\n"
      ],
      "execution_count": 5,
      "outputs": [
        {
          "output_type": "error",
          "ename": "ValueError",
          "evalue": "ignored",
          "traceback": [
            "\u001b[0;31m---------------------------------------------------------------------------\u001b[0m",
            "\u001b[0;31mValueError\u001b[0m                                Traceback (most recent call last)",
            "\u001b[0;32m<ipython-input-5-af6f767ae53c>\u001b[0m in \u001b[0;36m<module>\u001b[0;34m()\u001b[0m\n\u001b[1;32m      9\u001b[0m     \u001b[0;31m# Display the resulting frame\u001b[0m\u001b[0;34m\u001b[0m\u001b[0;34m\u001b[0m\u001b[0;34m\u001b[0m\u001b[0m\n\u001b[1;32m     10\u001b[0m \u001b[0;34m\u001b[0m\u001b[0m\n\u001b[0;32m---> 11\u001b[0;31m     \u001b[0mdirection\u001b[0m \u001b[0;34m=\u001b[0m \u001b[0mget_arrow_direction\u001b[0m \u001b[0;34m(\u001b[0m\u001b[0mframe\u001b[0m\u001b[0;34m)\u001b[0m\u001b[0;34m\u001b[0m\u001b[0;34m\u001b[0m\u001b[0m\n\u001b[0m\u001b[1;32m     12\u001b[0m     \u001b[0mplt\u001b[0m\u001b[0;34m.\u001b[0m\u001b[0mtext\u001b[0m \u001b[0;34m(\u001b[0m\u001b[0;36m50\u001b[0m\u001b[0;34m,\u001b[0m \u001b[0;36m50\u001b[0m\u001b[0;34m,\u001b[0m \u001b[0mdirection\u001b[0m\u001b[0;34m,\u001b[0m \u001b[0mfontsize\u001b[0m\u001b[0;34m=\u001b[0m\u001b[0;36m20\u001b[0m\u001b[0;34m)\u001b[0m\u001b[0;34m\u001b[0m\u001b[0;34m\u001b[0m\u001b[0m\n\u001b[1;32m     13\u001b[0m     \u001b[0mplt\u001b[0m\u001b[0;34m.\u001b[0m\u001b[0mimshow\u001b[0m \u001b[0;34m(\u001b[0m\u001b[0mframe\u001b[0m\u001b[0;34m)\u001b[0m\u001b[0;34m\u001b[0m\u001b[0;34m\u001b[0m\u001b[0m\n",
            "\u001b[0;32m<ipython-input-4-a1463f98df49>\u001b[0m in \u001b[0;36mget_arrow_direction\u001b[0;34m(img_orig)\u001b[0m\n\u001b[1;32m     18\u001b[0m \u001b[0;34m\u001b[0m\u001b[0m\n\u001b[1;32m     19\u001b[0m   \u001b[0mvertices_norm\u001b[0m \u001b[0;34m=\u001b[0m \u001b[0mvertices\u001b[0m \u001b[0;34m[\u001b[0m\u001b[0;34m:\u001b[0m\u001b[0;34m,\u001b[0m\u001b[0;36m0\u001b[0m\u001b[0;34m,\u001b[0m\u001b[0;34m:\u001b[0m\u001b[0;34m]\u001b[0m\u001b[0;34m\u001b[0m\u001b[0;34m\u001b[0m\u001b[0m\n\u001b[0;32m---> 20\u001b[0;31m   \u001b[0mrect\u001b[0m\u001b[0;34m,\u001b[0m \u001b[0munwarped_size\u001b[0m \u001b[0;34m=\u001b[0m \u001b[0morder_points\u001b[0m \u001b[0;34m(\u001b[0m\u001b[0mvertices_norm\u001b[0m\u001b[0;34m)\u001b[0m\u001b[0;34m\u001b[0m\u001b[0;34m\u001b[0m\u001b[0m\n\u001b[0m\u001b[1;32m     21\u001b[0m \u001b[0;34m\u001b[0m\u001b[0m\n\u001b[1;32m     22\u001b[0m   \u001b[0mdst\u001b[0m \u001b[0;34m=\u001b[0m \u001b[0mnp\u001b[0m\u001b[0;34m.\u001b[0m\u001b[0marray\u001b[0m\u001b[0;34m(\u001b[0m\u001b[0;34m[\u001b[0m\u001b[0;34m[\u001b[0m\u001b[0;36m0\u001b[0m\u001b[0;34m,\u001b[0m \u001b[0;36m0\u001b[0m\u001b[0;34m]\u001b[0m\u001b[0;34m,\u001b[0m \u001b[0;34m[\u001b[0m\u001b[0munwarped_size\u001b[0m\u001b[0;34m[\u001b[0m\u001b[0;36m0\u001b[0m\u001b[0;34m]\u001b[0m\u001b[0;34m,\u001b[0m \u001b[0;36m0\u001b[0m\u001b[0;34m]\u001b[0m\u001b[0;34m,\u001b[0m \u001b[0;34m[\u001b[0m\u001b[0munwarped_size\u001b[0m\u001b[0;34m[\u001b[0m\u001b[0;36m0\u001b[0m\u001b[0;34m]\u001b[0m\u001b[0;34m,\u001b[0m \u001b[0munwarped_size\u001b[0m\u001b[0;34m[\u001b[0m\u001b[0;36m1\u001b[0m\u001b[0;34m]\u001b[0m\u001b[0;34m]\u001b[0m\u001b[0;34m,\u001b[0m \u001b[0;34m[\u001b[0m\u001b[0;36m0\u001b[0m\u001b[0;34m,\u001b[0m \u001b[0munwarped_size\u001b[0m\u001b[0;34m[\u001b[0m\u001b[0;36m1\u001b[0m\u001b[0;34m]\u001b[0m\u001b[0;34m]\u001b[0m\u001b[0;34m]\u001b[0m\u001b[0;34m,\u001b[0m \u001b[0mdtype\u001b[0m\u001b[0;34m=\u001b[0m\u001b[0;34m\"float32\"\u001b[0m\u001b[0;34m)\u001b[0m\u001b[0;34m\u001b[0m\u001b[0;34m\u001b[0m\u001b[0m\n",
            "\u001b[0;32m<ipython-input-3-c2a9e1941b3c>\u001b[0m in \u001b[0;36morder_points\u001b[0;34m(pts)\u001b[0m\n\u001b[1;32m      7\u001b[0m     \u001b[0mordered\u001b[0m \u001b[0;34m=\u001b[0m \u001b[0mnp\u001b[0m\u001b[0;34m.\u001b[0m\u001b[0marray\u001b[0m \u001b[0;34m(\u001b[0m\u001b[0mpts\u001b[0m\u001b[0;34m[\u001b[0m\u001b[0mind\u001b[0m\u001b[0;34m]\u001b[0m\u001b[0;34m,\u001b[0m \u001b[0mdtype\u001b[0m \u001b[0;34m=\u001b[0m \u001b[0;34m'float32'\u001b[0m\u001b[0;34m)\u001b[0m\u001b[0;34m\u001b[0m\u001b[0;34m\u001b[0m\u001b[0m\n\u001b[1;32m      8\u001b[0m \u001b[0;34m\u001b[0m\u001b[0m\n\u001b[0;32m----> 9\u001b[0;31m     \u001b[0;34m(\u001b[0m\u001b[0mtl\u001b[0m\u001b[0;34m,\u001b[0m \u001b[0mtr\u001b[0m\u001b[0;34m,\u001b[0m \u001b[0mbr\u001b[0m\u001b[0;34m,\u001b[0m \u001b[0mbl\u001b[0m\u001b[0;34m)\u001b[0m \u001b[0;34m=\u001b[0m \u001b[0mordered\u001b[0m\u001b[0;34m\u001b[0m\u001b[0;34m\u001b[0m\u001b[0m\n\u001b[0m\u001b[1;32m     10\u001b[0m \u001b[0;34m\u001b[0m\u001b[0m\n\u001b[1;32m     11\u001b[0m     \u001b[0mwidthA\u001b[0m \u001b[0;34m=\u001b[0m \u001b[0mnp\u001b[0m\u001b[0;34m.\u001b[0m\u001b[0msqrt\u001b[0m\u001b[0;34m(\u001b[0m\u001b[0;34m(\u001b[0m\u001b[0;34m(\u001b[0m\u001b[0mbr\u001b[0m\u001b[0;34m[\u001b[0m\u001b[0;36m0\u001b[0m\u001b[0;34m]\u001b[0m \u001b[0;34m-\u001b[0m \u001b[0mbl\u001b[0m\u001b[0;34m[\u001b[0m\u001b[0;36m0\u001b[0m\u001b[0;34m]\u001b[0m\u001b[0;34m)\u001b[0m \u001b[0;34m**\u001b[0m \u001b[0;36m2\u001b[0m\u001b[0;34m)\u001b[0m \u001b[0;34m+\u001b[0m \u001b[0;34m(\u001b[0m\u001b[0;34m(\u001b[0m\u001b[0mbr\u001b[0m\u001b[0;34m[\u001b[0m\u001b[0;36m1\u001b[0m\u001b[0;34m]\u001b[0m \u001b[0;34m-\u001b[0m \u001b[0mbl\u001b[0m\u001b[0;34m[\u001b[0m\u001b[0;36m1\u001b[0m\u001b[0;34m]\u001b[0m\u001b[0;34m)\u001b[0m \u001b[0;34m**\u001b[0m \u001b[0;36m2\u001b[0m\u001b[0;34m)\u001b[0m\u001b[0;34m)\u001b[0m\u001b[0;34m\u001b[0m\u001b[0;34m\u001b[0m\u001b[0m\n",
            "\u001b[0;31mValueError\u001b[0m: too many values to unpack (expected 4)"
          ]
        }
      ]
    }
  ]
}